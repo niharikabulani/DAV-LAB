{
  "nbformat": 4,
  "nbformat_minor": 0,
  "metadata": {
    "colab": {
      "provenance": [],
      "authorship_tag": "ABX9TyO1vKQ6oa6fvJOjsn/XSeAb",
      "include_colab_link": true
    },
    "kernelspec": {
      "name": "python3",
      "display_name": "Python 3"
    },
    "language_info": {
      "name": "python"
    }
  },
  "cells": [
    {
      "cell_type": "markdown",
      "metadata": {
        "id": "view-in-github",
        "colab_type": "text"
      },
      "source": [
        "<a href=\"https://colab.research.google.com/github/niharikabulani/DAV-LAB/blob/main/dav_9.ipynb\" target=\"_parent\"><img src=\"https://colab.research.google.com/assets/colab-badge.svg\" alt=\"Open In Colab\"/></a>"
      ]
    },
    {
      "cell_type": "markdown",
      "source": [
        "Experiment 9:\tCreate a World Map with d3.js"
      ],
      "metadata": {
        "id": "KUl5HG7_cY7l"
      }
    },
    {
      "cell_type": "code",
      "execution_count": 1,
      "metadata": {
        "colab": {
          "base_uri": "https://localhost:8080/",
          "height": 641
        },
        "id": "z1W7FFBCcUg8",
        "outputId": "560936aa-2667-49aa-8f78-5b9cf3d7b23c"
      },
      "outputs": [
        {
          "output_type": "display_data",
          "data": {
            "text/plain": [
              "<IPython.core.display.HTML object>"
            ],
            "text/html": [
              "<!DOCTYPE html>\n",
              "<html lang=\"en\">\n",
              "<head>\n",
              "  <meta charset=\"UTF-8\">\n",
              "  <meta name=\"viewport\" content=\"width=device-width, initial-scale=1.0\">\n",
              "  <title>World Map with D3.js</title>\n",
              "  <script src=\"https://d3js.org/d3.v7.min.js\"></script>\n",
              "  <script src=\"https://d3js.org/topojson.v3.min.js\"></script>\n",
              "  <style>\n",
              "    svg {\n",
              "      background-color: #f0f0f0;\n",
              "    }\n",
              "\n",
              "    .country {\n",
              "      fill: #ccc;\n",
              "      stroke: #666;\n",
              "      stroke-width: 0.5;\n",
              "    }\n",
              "\n",
              "    .country:hover {\n",
              "      fill: #999;\n",
              "    }\n",
              "  </style>\n",
              "</head>\n",
              "<body>\n",
              "\n",
              "<div>\n",
              "  <button onclick=\"zoomIn()\">Zoom In</button>\n",
              "  <button onclick=\"zoomOut()\">Zoom Out</button>\n",
              "</div>\n",
              "\n",
              "<svg width=\"960\" height=\"600\"></svg>\n",
              "\n",
              "<script>\n",
              "  const svg = d3.select(\"svg\");\n",
              "  const projection = d3.geoNaturalEarth1();\n",
              "  const path = d3.geoPath().projection(projection);\n",
              "\n",
              "  // Load world map data\n",
              "  d3.json(\"https://raw.githubusercontent.com/d3/d3.github.com/master/world-110m.v1.json\").then(function(world) {\n",
              "    svg.selectAll(\"path\")\n",
              "      .data(topojson.feature(world, world.objects.countries).features)\n",
              "      .enter().append(\"path\")\n",
              "        .attr(\"class\", \"country\")\n",
              "        .attr(\"d\", path);\n",
              "  });\n",
              "\n",
              "  function zoomIn() {\n",
              "    svg.transition().duration(750).call(zoom.scaleBy, 2);\n",
              "  }\n",
              "\n",
              "  function zoomOut() {\n",
              "    svg.transition().duration(750).call(zoom.scaleBy, 0.5);\n",
              "  }\n",
              "\n",
              "  const zoom = d3.zoom()\n",
              "    .scaleExtent([1, 8])\n",
              "    .on(\"zoom\", function(event) {\n",
              "      svg.selectAll(\"path\").attr(\"transform\", event.transform);\n",
              "    });\n",
              "\n",
              "  svg.call(zoom);\n",
              "\n",
              "</script>\n",
              "\n",
              "</body>\n",
              "</html>\n"
            ]
          },
          "metadata": {}
        }
      ],
      "source": [
        "%%html\n",
        "<!DOCTYPE html>\n",
        "<html lang=\"en\">\n",
        "<head>\n",
        "  <meta charset=\"UTF-8\">\n",
        "  <meta name=\"viewport\" content=\"width=device-width, initial-scale=1.0\">\n",
        "  <title>World Map with D3.js</title>\n",
        "  <script src=\"https://d3js.org/d3.v7.min.js\"></script>\n",
        "  <script src=\"https://d3js.org/topojson.v3.min.js\"></script>\n",
        "  <style>\n",
        "    svg {\n",
        "      background-color: #f0f0f0;\n",
        "    }\n",
        "\n",
        "    .country {\n",
        "      fill: #ccc;\n",
        "      stroke: #666;\n",
        "      stroke-width: 0.5;\n",
        "    }\n",
        "\n",
        "    .country:hover {\n",
        "      fill: #999;\n",
        "    }\n",
        "  </style>\n",
        "</head>\n",
        "<body>\n",
        "\n",
        "<div>\n",
        "  <button onclick=\"zoomIn()\">Zoom In</button>\n",
        "  <button onclick=\"zoomOut()\">Zoom Out</button>\n",
        "</div>\n",
        "\n",
        "<svg width=\"960\" height=\"600\"></svg>\n",
        "\n",
        "<script>\n",
        "  const svg = d3.select(\"svg\");\n",
        "  const projection = d3.geoNaturalEarth1();\n",
        "  const path = d3.geoPath().projection(projection);\n",
        "\n",
        "  // Load world map data\n",
        "  d3.json(\"https://raw.githubusercontent.com/d3/d3.github.com/master/world-110m.v1.json\").then(function(world) {\n",
        "    svg.selectAll(\"path\")\n",
        "      .data(topojson.feature(world, world.objects.countries).features)\n",
        "      .enter().append(\"path\")\n",
        "        .attr(\"class\", \"country\")\n",
        "        .attr(\"d\", path);\n",
        "  });\n",
        "\n",
        "  function zoomIn() {\n",
        "    svg.transition().duration(750).call(zoom.scaleBy, 2);\n",
        "  }\n",
        "\n",
        "  function zoomOut() {\n",
        "    svg.transition().duration(750).call(zoom.scaleBy, 0.5);\n",
        "  }\n",
        "\n",
        "  const zoom = d3.zoom()\n",
        "    .scaleExtent([1, 8])\n",
        "    .on(\"zoom\", function(event) {\n",
        "      svg.selectAll(\"path\").attr(\"transform\", event.transform);\n",
        "    });\n",
        "\n",
        "  svg.call(zoom);\n",
        "\n",
        "</script>\n",
        "\n",
        "</body>\n",
        "</html>\n"
      ]
    }
  ]
}