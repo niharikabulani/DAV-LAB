{
  "nbformat": 4,
  "nbformat_minor": 0,
  "metadata": {
    "colab": {
      "provenance": [],
      "authorship_tag": "ABX9TyO8c+Zq7BmRBlE5uX0MnhT+",
      "include_colab_link": true
    },
    "kernelspec": {
      "name": "python3",
      "display_name": "Python 3"
    },
    "language_info": {
      "name": "python"
    }
  },
  "cells": [
    {
      "cell_type": "markdown",
      "metadata": {
        "id": "view-in-github",
        "colab_type": "text"
      },
      "source": [
        "<a href=\"https://colab.research.google.com/github/niharikabulani/DAV-LAB/blob/main/exp8_dav.ipynb\" target=\"_parent\"><img src=\"https://colab.research.google.com/assets/colab-badge.svg\" alt=\"Open In Colab\"/></a>"
      ]
    },
    {
      "cell_type": "markdown",
      "source": [
        "Experiment 8: Set Up a D3.js Environment, Select Elements in D3, Modify Elements in D3,Data Loading in D3"
      ],
      "metadata": {
        "id": "QDvv6hjGanps"
      }
    },
    {
      "cell_type": "code",
      "execution_count": 1,
      "metadata": {
        "colab": {
          "base_uri": "https://localhost:8080/",
          "height": 34
        },
        "id": "n4ayflehXsRP",
        "outputId": "7b256c95-5b5d-4e3b-982e-7b1268ec3fda"
      },
      "outputs": [
        {
          "output_type": "display_data",
          "data": {
            "text/plain": [
              "<IPython.core.display.HTML object>"
            ],
            "text/html": [
              "<!DOCTYPE html>\n",
              "<html>\n",
              "   <head>\n",
              "      <script type = \"text/javascript\" src = \"https://d3js.org/d3.v4.min.js\"></script>\n",
              "   </head>\n",
              "\n",
              "   <body>\n",
              "      <div>\n",
              "         Hello World!\n",
              "      </div>\n",
              "\n",
              "      <script>\n",
              "         d3.select(\"div\").text();\n",
              "      </script>\n",
              "   </body>\n",
              "</html>\n"
            ]
          },
          "metadata": {}
        }
      ],
      "source": [
        "%%html\n",
        "<!DOCTYPE html>\n",
        "<html>\n",
        "   <head>\n",
        "      <script type = \"text/javascript\" src = \"https://d3js.org/d3.v4.min.js\"></script>\n",
        "   </head>\n",
        "\n",
        "   <body>\n",
        "      <div>\n",
        "         Hello World!\n",
        "      </div>\n",
        "\n",
        "      <script>\n",
        "         d3.select(\"div\").text();\n",
        "      </script>\n",
        "   </body>\n",
        "</html>"
      ]
    },
    {
      "cell_type": "markdown",
      "source": [
        "select element using tag"
      ],
      "metadata": {
        "id": "9JS8RbyDYE0j"
      }
    },
    {
      "cell_type": "code",
      "source": [
        "%%html\n",
        "<!DOCTYPE html>\n",
        "<html>\n",
        "   <head>\n",
        "      <script type = \"text/javascript\" src = \"https://d3js.org/d3.v4.min.js\"></script>\n",
        "   </head>\n",
        "\n",
        "   <body>\n",
        "      <div class = \"myclass\">\n",
        "         Hello World!\n",
        "      </div>\n",
        "\n",
        "      <script>\n",
        "         ad3.select(\".myclass\").text();\n",
        "      </script>\n",
        "   </body>\n",
        "</html>"
      ],
      "metadata": {
        "colab": {
          "base_uri": "https://localhost:8080/",
          "height": 34
        },
        "id": "onrf6ryPX86t",
        "outputId": "05a94ef2-7bd0-4d83-b2f3-572b3d2f61f6"
      },
      "execution_count": 2,
      "outputs": [
        {
          "output_type": "display_data",
          "data": {
            "text/plain": [
              "<IPython.core.display.HTML object>"
            ],
            "text/html": [
              "<!DOCTYPE html>\n",
              "<html>\n",
              "   <head>\n",
              "      <script type = \"text/javascript\" src = \"https://d3js.org/d3.v4.min.js\"></script>\n",
              "   </head>\n",
              "\n",
              "   <body>\n",
              "      <div class = \"myclass\">\n",
              "         Hello World!\n",
              "      </div>\n",
              "\n",
              "      <script>\n",
              "         ad3.select(\".myclass\").text();\n",
              "      </script>\n",
              "   </body>\n",
              "</html>\n"
            ]
          },
          "metadata": {}
        }
      ]
    },
    {
      "cell_type": "markdown",
      "source": [
        "using classname"
      ],
      "metadata": {
        "id": "PtwSVQklYXOt"
      }
    },
    {
      "cell_type": "code",
      "source": [
        "%%html\n",
        "<!DOCTYPE html>\n",
        "<html>\n",
        "   <head>\n",
        "      <script type = \"text/javascript\" src = \"https://d3js.org/d3.v4.min.js\"></script>\n",
        "   </head>\n",
        "\n",
        "   <body>\n",
        "      <div id = \"hello\">\n",
        "         Hello World!\n",
        "      </div>\n",
        "\n",
        "      <script>\n",
        "         d3.select(\"#hello\").text();\n",
        "      </script>\n",
        "   </body>\n",
        "</html>"
      ],
      "metadata": {
        "colab": {
          "base_uri": "https://localhost:8080/",
          "height": 34
        },
        "id": "EfpJQ9fIYPz7",
        "outputId": "2a42cd7f-fd4c-4d48-d310-8dcaa1f3662c"
      },
      "execution_count": 3,
      "outputs": [
        {
          "output_type": "display_data",
          "data": {
            "text/plain": [
              "<IPython.core.display.HTML object>"
            ],
            "text/html": [
              "<!DOCTYPE html>\n",
              "<html>\n",
              "   <head>\n",
              "      <script type = \"text/javascript\" src = \"https://d3js.org/d3.v4.min.js\"></script>\n",
              "   </head>\n",
              "\n",
              "   <body>\n",
              "      <div id = \"hello\">\n",
              "         Hello World!\n",
              "      </div>\n",
              "\n",
              "      <script>\n",
              "         d3.select(\"#hello\").text();\n",
              "      </script>\n",
              "   </body>\n",
              "</html>\n"
            ]
          },
          "metadata": {}
        }
      ]
    },
    {
      "cell_type": "markdown",
      "source": [
        "using ID"
      ],
      "metadata": {
        "id": "J8Md2LypYgWu"
      }
    },
    {
      "cell_type": "code",
      "source": [
        "%%html\n",
        "<!DOCTYPE html>\n",
        "<html>\n",
        "   <head>\n",
        "      <script type = \"text/javascript\" src = \"https://d3js.org/d3.v4.min.js\"></script>\n",
        "   </head>\n",
        "\n",
        "   <body>\n",
        "      <div class = \"myclass\">\n",
        "         Hello World!\n",
        "      </div>\n",
        "\n",
        "      <script>\n",
        "         d3.select(\"div.myclass\").append(\"span\");\n",
        "      </script>\n",
        "   </body>\n",
        "</html>"
      ],
      "metadata": {
        "colab": {
          "base_uri": "https://localhost:8080/",
          "height": 34
        },
        "id": "O7Sx1ifKYbhV",
        "outputId": "21f94b4f-d386-4df8-a5d1-fb9fa7afe042"
      },
      "execution_count": 4,
      "outputs": [
        {
          "output_type": "display_data",
          "data": {
            "text/plain": [
              "<IPython.core.display.HTML object>"
            ],
            "text/html": [
              "<!DOCTYPE html>\n",
              "<html>\n",
              "   <head>\n",
              "      <script type = \"text/javascript\" src = \"https://d3js.org/d3.v4.min.js\"></script>\n",
              "   </head>\n",
              "\n",
              "   <body>\n",
              "      <div class = \"myclass\">\n",
              "         Hello World!\n",
              "      </div>\n",
              "\n",
              "      <script>\n",
              "         d3.select(\"div.myclass\").append(\"span\");\n",
              "      </script>\n",
              "   </body>\n",
              "</html>\n"
            ]
          },
          "metadata": {}
        }
      ]
    },
    {
      "cell_type": "markdown",
      "source": [
        "Here, the append() method adds a new tag span inside the div tag"
      ],
      "metadata": {
        "id": "SRQx2vH8YnhH"
      }
    },
    {
      "cell_type": "code",
      "source": [
        "%%html\n",
        "<!DOCTYPE html>\n",
        "<html>\n",
        "   <head>\n",
        "      <script type = \"text/javascript\" src = \"https://d3js.org/d3.v4.min.js\"></script>\n",
        "   </head>\n",
        "\n",
        "   <body>\n",
        "      <div class = \"myclass\">\n",
        "         Hello World!\n",
        "      </div>\n",
        "\n",
        "      <script>\n",
        "         d3.select(\"div.myclass\").append(\"span\").text(\"from D3.js\");\n",
        "      </script>\n",
        "   </body>\n",
        "</html>"
      ],
      "metadata": {
        "colab": {
          "base_uri": "https://localhost:8080/",
          "height": 34
        },
        "id": "nJL5ra1nYsU-",
        "outputId": "b42889a1-40c8-419f-b4e1-171e827d6b75"
      },
      "execution_count": 5,
      "outputs": [
        {
          "output_type": "display_data",
          "data": {
            "text/plain": [
              "<IPython.core.display.HTML object>"
            ],
            "text/html": [
              "<!DOCTYPE html>\n",
              "<html>\n",
              "   <head>\n",
              "      <script type = \"text/javascript\" src = \"https://d3js.org/d3.v4.min.js\"></script>\n",
              "   </head>\n",
              "\n",
              "   <body>\n",
              "      <div class = \"myclass\">\n",
              "         Hello World!\n",
              "      </div>\n",
              "\n",
              "      <script>\n",
              "         d3.select(\"div.myclass\").append(\"span\").text(\"from D3.js\");\n",
              "      </script>\n",
              "   </body>\n",
              "</html>\n"
            ]
          },
          "metadata": {}
        }
      ]
    },
    {
      "cell_type": "markdown",
      "source": [
        "The text() method is used to set the content of the selected / appended elements"
      ],
      "metadata": {
        "id": "p7whbTH0Ywwm"
      }
    },
    {
      "cell_type": "code",
      "source": [
        "%%html\n",
        "<!DOCTYPE html>\n",
        "<html>\n",
        "   <head>\n",
        "      <script type = \"text/javascript\" src = \"https://d3js.org/d3.v4.min.js\"></script>\n",
        "   </head>\n",
        "\n",
        "   <body>\n",
        "      <div class = \"myclass\">\n",
        "         Hello World!\n",
        "      </div>\n",
        "\n",
        "      <script>\n",
        "         d3.select(\".myclass\").html(\"Hello World! <span>from D3.js</span>\");\n",
        "      </script>\n",
        "   </body>\n",
        "</html>"
      ],
      "metadata": {
        "colab": {
          "base_uri": "https://localhost:8080/",
          "height": 34
        },
        "id": "KUqMmrjpYxVG",
        "outputId": "fd86d881-134e-4239-d886-f82e3e7ea4d9"
      },
      "execution_count": 6,
      "outputs": [
        {
          "output_type": "display_data",
          "data": {
            "text/plain": [
              "<IPython.core.display.HTML object>"
            ],
            "text/html": [
              "<!DOCTYPE html>\n",
              "<html>\n",
              "   <head>\n",
              "      <script type = \"text/javascript\" src = \"https://d3js.org/d3.v4.min.js\"></script>\n",
              "   </head>\n",
              "\n",
              "   <body>\n",
              "      <div class = \"myclass\">\n",
              "         Hello World!\n",
              "      </div>\n",
              "\n",
              "      <script>\n",
              "         d3.select(\".myclass\").html(\"Hello World! <span>from D3.js</span>\");\n",
              "      </script>\n",
              "   </body>\n",
              "</html>\n"
            ]
          },
          "metadata": {}
        }
      ]
    },
    {
      "cell_type": "markdown",
      "source": [
        "The html() method is used to set the html content of the selected / appended elements."
      ],
      "metadata": {
        "id": "4Fm-l7tgY0BO"
      }
    },
    {
      "cell_type": "code",
      "source": [
        "%%html\n",
        "<!DOCTYPE html>\n",
        "<html>\n",
        "   <head>\n",
        "      <script type = \"text/javascript\" src = \"https://d3js.org/d3.v4.min.js\"></script>\n",
        "   </head>\n",
        "\n",
        "   <body>\n",
        "      <div class = \"myclass\">\n",
        "         Hello World!\n",
        "      </div>\n",
        "\n",
        "      <script>\n",
        "         d3.select(\".myclass\").attr(\"style\", \"color: red\");\n",
        "      </script>\n",
        "   </body>\n",
        "</html>"
      ],
      "metadata": {
        "colab": {
          "base_uri": "https://localhost:8080/",
          "height": 34
        },
        "id": "6nMwwkFEY2OW",
        "outputId": "6cd188ef-8514-4949-ddbb-443be0858bf0"
      },
      "execution_count": 7,
      "outputs": [
        {
          "output_type": "display_data",
          "data": {
            "text/plain": [
              "<IPython.core.display.HTML object>"
            ],
            "text/html": [
              "<!DOCTYPE html>\n",
              "<html>\n",
              "   <head>\n",
              "      <script type = \"text/javascript\" src = \"https://d3js.org/d3.v4.min.js\"></script>\n",
              "   </head>\n",
              "\n",
              "   <body>\n",
              "      <div class = \"myclass\">\n",
              "         Hello World!\n",
              "      </div>\n",
              "\n",
              "      <script>\n",
              "         d3.select(\".myclass\").attr(\"style\", \"color: red\");\n",
              "      </script>\n",
              "   </body>\n",
              "</html>\n"
            ]
          },
          "metadata": {}
        }
      ]
    },
    {
      "cell_type": "markdown",
      "source": [
        "The attr() method is used to add or update the attribute of the selected elements."
      ],
      "metadata": {
        "id": "FhVg2Et4Y5B9"
      }
    },
    {
      "cell_type": "code",
      "source": [
        "%%html\n",
        "<!DOCTYPE html>\n",
        "<html>\n",
        "   <head>\n",
        "      <script type = \"text/javascript\" src = \"https://d3js.org/d3.v4.min.js\"></script>\n",
        "   </head>\n",
        "\n",
        "   <body>\n",
        "      <div class = \"myclass\">\n",
        "         Hello World!\n",
        "      </div>\n",
        "\n",
        "      <script>\n",
        "         d3.select(\".myclass\").style(\"color\", \"red\");\n",
        "      </script>\n",
        "   </body>\n",
        "</html>"
      ],
      "metadata": {
        "colab": {
          "base_uri": "https://localhost:8080/",
          "height": 34
        },
        "id": "DTbPSOPNY7oW",
        "outputId": "df7068e6-679d-4375-9b3f-f7624f2231de"
      },
      "execution_count": 8,
      "outputs": [
        {
          "output_type": "display_data",
          "data": {
            "text/plain": [
              "<IPython.core.display.HTML object>"
            ],
            "text/html": [
              "<!DOCTYPE html>\n",
              "<html>\n",
              "   <head>\n",
              "      <script type = \"text/javascript\" src = \"https://d3js.org/d3.v4.min.js\"></script>\n",
              "   </head>\n",
              "\n",
              "   <body>\n",
              "      <div class = \"myclass\">\n",
              "         Hello World!\n",
              "      </div>\n",
              "\n",
              "      <script>\n",
              "         d3.select(\".myclass\").style(\"color\", \"red\");\n",
              "      </script>\n",
              "   </body>\n",
              "</html>\n"
            ]
          },
          "metadata": {}
        }
      ]
    },
    {
      "cell_type": "markdown",
      "source": [
        "The style() method is used to set the style property of the selected elements."
      ],
      "metadata": {
        "id": "8rjH2mxbY_0t"
      }
    },
    {
      "cell_type": "code",
      "source": [
        "%%html\n",
        "<!DOCTYPE html>\n",
        "<html>\n",
        "   <head>\n",
        "      <script type = \"text/javascript\" src = \"https://d3js.org/d3.v4.min.js\"></script>\n",
        "   </head>\n",
        "\n",
        "   <body>\n",
        "      <h2 class = \"myclass\">Message</h2>\n",
        "      <div class = \"myclass\">\n",
        "         Hello World!\n",
        "      </div>\n",
        "\n",
        "      <script>\n",
        "         d3.selectAll(\".myclass\").attr(\"style\", \"color: red\");\n",
        "      </script>\n",
        "   </body>\n",
        "</html>"
      ],
      "metadata": {
        "colab": {
          "base_uri": "https://localhost:8080/",
          "height": 82
        },
        "id": "ki_75LDhZAv3",
        "outputId": "d9531cfa-42b6-4ef5-9803-036b923fd60a"
      },
      "execution_count": 9,
      "outputs": [
        {
          "output_type": "display_data",
          "data": {
            "text/plain": [
              "<IPython.core.display.HTML object>"
            ],
            "text/html": [
              "<!DOCTYPE html>\n",
              "<html>\n",
              "   <head>\n",
              "      <script type = \"text/javascript\" src = \"https://d3js.org/d3.v4.min.js\"></script>\n",
              "   </head>\n",
              "\n",
              "   <body>\n",
              "      <h2 class = \"myclass\">Message</h2>\n",
              "      <div class = \"myclass\">\n",
              "         Hello World!\n",
              "      </div>\n",
              "\n",
              "      <script>\n",
              "         d3.selectAll(\".myclass\").attr(\"style\", \"color: red\");\n",
              "      </script>\n",
              "   </body>\n",
              "</html>\n"
            ]
          },
          "metadata": {}
        }
      ]
    },
    {
      "cell_type": "markdown",
      "source": [
        "The selectAll() method is used to select multiple elements in the HTML document."
      ],
      "metadata": {
        "id": "LrhbZKc4ZDyt"
      }
    },
    {
      "cell_type": "code",
      "source": [
        "%%html\n",
        "<!DOCTYPE html>\n",
        "<html>\n",
        "   <head>\n",
        "      <script type = \"text/javascript\" src = \"https://d3js.org/d3.v4.min.js\"></script>\n",
        "      <style>\n",
        "         body { font-family: Arial; }\n",
        "      </style>\n",
        "   </head>\n",
        "\n",
        "   <body>\n",
        "      <ul id = \"list\">\n",
        "         <li></li>\n",
        "         <li></li>\n",
        "      </ul>\n",
        "\n",
        "      <input type = \"button\" name = \"remove\" value = \"Remove fourth value\"\n",
        "         onclick = \"javascript:remove()\" />\n",
        "\n",
        "      <script>\n",
        "         d3.select(\"#list\").selectAll(\"li\")\n",
        "            .data([10, 20, 30, 25, 15])\n",
        "            .text(function(d)\n",
        "               { return \"This is pre-existing element and the value is \" + d; })\n",
        "            .enter()\n",
        "            .append(\"li\")\n",
        "            .text(function(d)\n",
        "               { return \"This is dynamically created element and the value is \" + d; });\n",
        "\n",
        "         function remove() {\n",
        "            d3.selectAll(\"li\")\n",
        "            .data([10, 20, 30, 15])\n",
        "            .exit()\n",
        "            .remove()\n",
        "         }\n",
        "      </script>\n",
        "   </body>\n",
        "</html>"
      ],
      "metadata": {
        "colab": {
          "base_uri": "https://localhost:8080/",
          "height": 134
        },
        "id": "01JBMa2AZHId",
        "outputId": "2823bc41-47d7-4b3c-ebf7-a0307d4f40a7"
      },
      "execution_count": 10,
      "outputs": [
        {
          "output_type": "display_data",
          "data": {
            "text/plain": [
              "<IPython.core.display.HTML object>"
            ],
            "text/html": [
              "<!DOCTYPE html>\n",
              "<html>\n",
              "   <head>\n",
              "      <script type = \"text/javascript\" src = \"https://d3js.org/d3.v4.min.js\"></script>\n",
              "      <style>\n",
              "         body { font-family: Arial; }\n",
              "      </style>\n",
              "   </head>\n",
              "\n",
              "   <body>\n",
              "      <ul id = \"list\">\n",
              "         <li></li>\n",
              "         <li></li>\n",
              "      </ul>\n",
              "\n",
              "      <input type = \"button\" name = \"remove\" value = \"Remove fourth value\"\n",
              "         onclick = \"javascript:remove()\" />\n",
              "\n",
              "      <script>\n",
              "         d3.select(\"#list\").selectAll(\"li\")\n",
              "            .data([10, 20, 30, 25, 15])\n",
              "            .text(function(d)\n",
              "               { return \"This is pre-existing element and the value is \" + d; })\n",
              "            .enter()\n",
              "            .append(\"li\")\n",
              "            .text(function(d)\n",
              "               { return \"This is dynamically created element and the value is \" + d; });\n",
              "\n",
              "         function remove() {\n",
              "            d3.selectAll(\"li\")\n",
              "            .data([10, 20, 30, 15])\n",
              "            .exit()\n",
              "            .remove()\n",
              "         }\n",
              "      </script>\n",
              "   </body>\n",
              "</html>\n"
            ]
          },
          "metadata": {}
        }
      ]
    },
    {
      "cell_type": "markdown",
      "source": [
        "Data join enables us to inject, modify and remove elements."
      ],
      "metadata": {
        "id": "Sda8HwKzZLrA"
      }
    },
    {
      "cell_type": "code",
      "source": [
        "%%html\n",
        "<!DOCTYPE html>\n",
        "<html>\n",
        "   <head>\n",
        "      <script type = \"text/javascript\" src = \"https://d3js.org/d3.v4.min.js\"></script>\n",
        "      <style>\n",
        "         body { font-family: Arial; }\n",
        "      </style>\n",
        "   </head>\n",
        "\n",
        "   <body>\n",
        "      <div id = \"svgcontainer\">\n",
        "         <svg width = \"300\" height = \"300\">\n",
        "            <line x1 = \"100\" y1 = \"100\"\n",
        "               x2 = \"200\" y2 = \"200\" style = \"stroke:rgb(255,0,0);\n",
        "               stroke-width:2\"/>\n",
        "         </svg>\n",
        "      </div>\n",
        "      <p></p>\n",
        "      <p></p>\n",
        "   </body>\n",
        "</html>"
      ],
      "metadata": {
        "colab": {
          "base_uri": "https://localhost:8080/",
          "height": 327
        },
        "id": "FdGRCYy4ZOJ3",
        "outputId": "5fed1daa-020c-4c38-cbe4-3a499a980f52"
      },
      "execution_count": 11,
      "outputs": [
        {
          "output_type": "display_data",
          "data": {
            "text/plain": [
              "<IPython.core.display.HTML object>"
            ],
            "text/html": [
              "<!DOCTYPE html>\n",
              "<html>\n",
              "   <head>\n",
              "      <script type = \"text/javascript\" src = \"https://d3js.org/d3.v4.min.js\"></script>\n",
              "      <style>\n",
              "         body { font-family: Arial; }\n",
              "      </style>\n",
              "   </head>\n",
              "\n",
              "   <body>\n",
              "      <div id = \"svgcontainer\">\n",
              "         <svg width = \"300\" height = \"300\">\n",
              "            <line x1 = \"100\" y1 = \"100\"\n",
              "               x2 = \"200\" y2 = \"200\" style = \"stroke:rgb(255,0,0);\n",
              "               stroke-width:2\"/>\n",
              "         </svg>\n",
              "      </div>\n",
              "      <p></p>\n",
              "      <p></p>\n",
              "   </body>\n",
              "</html>\n"
            ]
          },
          "metadata": {}
        }
      ]
    },
    {
      "cell_type": "markdown",
      "source": [
        "We have created s simple Red line using SVG tag"
      ],
      "metadata": {
        "id": "Kz7I6ibkZSiv"
      }
    },
    {
      "cell_type": "code",
      "source": [
        "%%html\n",
        "<!DOCTYPE html>\n",
        "<html>\n",
        "   <head>\n",
        "      <script type = \"text/javascript\" src = \"https://d3js.org/d3.v4.min.js\"></script>\n",
        "      <style>\n",
        "         body { font-family: Arial; }\n",
        "      </style>\n",
        "   </head>\n",
        "\n",
        "   <body>\n",
        "      <div id = \"svgcontainer\">\n",
        "      </div>\n",
        "      <script language = \"javascript\">\n",
        "         var width = 300;\n",
        "         var height = 300;\n",
        "         var svg = d3.select(\"#svgcontainer\")\n",
        "            .append(\"svg\")\n",
        "            .attr(\"width\", width)\n",
        "            .attr(\"height\", height);\n",
        "         svg.append(\"line\")\n",
        "            .attr(\"x1\", 100)\n",
        "            .attr(\"y1\", 100)\n",
        "            .attr(\"x2\", 200)\n",
        "            .attr(\"y2\", 200)\n",
        "            .style(\"stroke\", \"rgb(255,0,0)\")\n",
        "            .style(\"stroke-width\", 2);\n",
        "      </script>\n",
        "   </body>\n",
        "</html>"
      ],
      "metadata": {
        "colab": {
          "base_uri": "https://localhost:8080/",
          "height": 321
        },
        "id": "3lj5d3BDZVVG",
        "outputId": "700790fe-da01-4765-d1c5-88eeebc26fc3"
      },
      "execution_count": 12,
      "outputs": [
        {
          "output_type": "display_data",
          "data": {
            "text/plain": [
              "<IPython.core.display.HTML object>"
            ],
            "text/html": [
              "<!DOCTYPE html>\n",
              "<html>\n",
              "   <head>\n",
              "      <script type = \"text/javascript\" src = \"https://d3js.org/d3.v4.min.js\"></script>\n",
              "      <style>\n",
              "         body { font-family: Arial; }\n",
              "      </style>\n",
              "   </head>\n",
              "\n",
              "   <body>\n",
              "      <div id = \"svgcontainer\">\n",
              "      </div>\n",
              "      <script language = \"javascript\">\n",
              "         var width = 300;\n",
              "         var height = 300;\n",
              "         var svg = d3.select(\"#svgcontainer\")\n",
              "            .append(\"svg\")\n",
              "            .attr(\"width\", width)\n",
              "            .attr(\"height\", height);\n",
              "         svg.append(\"line\")\n",
              "            .attr(\"x1\", 100)\n",
              "            .attr(\"y1\", 100)\n",
              "            .attr(\"x2\", 200)\n",
              "            .attr(\"y2\", 200)\n",
              "            .style(\"stroke\", \"rgb(255,0,0)\")\n",
              "            .style(\"stroke-width\", 2);\n",
              "      </script>\n",
              "   </body>\n",
              "</html>\n"
            ]
          },
          "metadata": {}
        }
      ]
    },
    {
      "cell_type": "markdown",
      "source": [
        "Created a container to hold the SVG image"
      ],
      "metadata": {
        "id": "0yHkWCFyZYn2"
      }
    },
    {
      "cell_type": "code",
      "source": [
        "%%html\n",
        "<!DOCTYPE html>\n",
        "<html>\n",
        "   <head>\n",
        "      <script type = \"text/javascript\" src = \"https://d3js.org/d3.v4.min.js\"></script>\n",
        "   </head>\n",
        "\n",
        "   <body>\n",
        "      <div id = \"svgcontainer\"></div>\n",
        "      <script>\n",
        "         var width = 300;\n",
        "         var height = 300;\n",
        "         //Create SVG element\n",
        "         var svg = d3.select(\"#svgcontainer\")\n",
        "            .append(\"svg\")\n",
        "            .attr(\"width\", width)\n",
        "            .attr(\"height\", height);\n",
        "         //Create and append rectangle element\n",
        "         svg.append(\"rect\")\n",
        "            .attr(\"x\", 20)\n",
        "            .attr(\"y\", 20)\n",
        "            .attr(\"width\", 200)\n",
        "            .attr(\"height\", 100)\n",
        "            .attr(\"fill\", \"green\");\n",
        "      </script>\n",
        "   </body>\n",
        "</html>"
      ],
      "metadata": {
        "colab": {
          "base_uri": "https://localhost:8080/",
          "height": 321
        },
        "id": "HoThiX-fZceG",
        "outputId": "ac2fffe0-9b19-454f-d000-c1416800a44a"
      },
      "execution_count": 13,
      "outputs": [
        {
          "output_type": "display_data",
          "data": {
            "text/plain": [
              "<IPython.core.display.HTML object>"
            ],
            "text/html": [
              "<!DOCTYPE html>\n",
              "<html>\n",
              "   <head>\n",
              "      <script type = \"text/javascript\" src = \"https://d3js.org/d3.v4.min.js\"></script>\n",
              "   </head>\n",
              "\n",
              "   <body>\n",
              "      <div id = \"svgcontainer\"></div>\n",
              "      <script>\n",
              "         var width = 300;\n",
              "         var height = 300;\n",
              "         //Create SVG element\n",
              "         var svg = d3.select(\"#svgcontainer\")\n",
              "            .append(\"svg\")\n",
              "            .attr(\"width\", width)\n",
              "            .attr(\"height\", height);\n",
              "         //Create and append rectangle element\n",
              "         svg.append(\"rect\")\n",
              "            .attr(\"x\", 20)\n",
              "            .attr(\"y\", 20)\n",
              "            .attr(\"width\", 200)\n",
              "            .attr(\"height\", 100)\n",
              "            .attr(\"fill\", \"green\");\n",
              "      </script>\n",
              "   </body>\n",
              "</html>\n"
            ]
          },
          "metadata": {}
        }
      ]
    },
    {
      "cell_type": "markdown",
      "source": [
        "A rectangle is represented by the <rect> tag"
      ],
      "metadata": {
        "id": "j3Qgz8vgZhCm"
      }
    },
    {
      "cell_type": "code",
      "source": [
        "%%html\n",
        "<!DOCTYPE html>\n",
        "<html>\n",
        "   <head>\n",
        "      <script type = \"text/javascript\" src = \"https://d3js.org/d3.v4.min.js\"></script>\n",
        "   </head>\n",
        "\n",
        "   <body>\n",
        "      <div id = \"svgcontainer\"></div>\n",
        "      <script>\n",
        "         var width = 300;\n",
        "         var height = 300;\n",
        "         //Create SVG element\n",
        "         var svg = d3.select(\"#svgcontainer\")\n",
        "            .append(\"svg\")\n",
        "            .attr(\"width\", width)\n",
        "            .attr(\"height\", height);\n",
        "         //Append circle\n",
        "         svg.append(\"circle\")\n",
        "            .attr(\"cx\", 200)\n",
        "            .attr(\"cy\", 50)\n",
        "            .attr(\"r\", 40)\n",
        "            .attr(\"fill\", \"green\");\n",
        "      </script>\n",
        "   </body>\n",
        "</html>"
      ],
      "metadata": {
        "colab": {
          "base_uri": "https://localhost:8080/",
          "height": 321
        },
        "id": "xCA4WTHYZkG2",
        "outputId": "9bb0bc50-336a-4cec-985a-a4cdcef148bd"
      },
      "execution_count": 14,
      "outputs": [
        {
          "output_type": "display_data",
          "data": {
            "text/plain": [
              "<IPython.core.display.HTML object>"
            ],
            "text/html": [
              "<!DOCTYPE html>\n",
              "<html>\n",
              "   <head>\n",
              "      <script type = \"text/javascript\" src = \"https://d3js.org/d3.v4.min.js\"></script>\n",
              "   </head>\n",
              "\n",
              "   <body>\n",
              "      <div id = \"svgcontainer\"></div>\n",
              "      <script>\n",
              "         var width = 300;\n",
              "         var height = 300;\n",
              "         //Create SVG element\n",
              "         var svg = d3.select(\"#svgcontainer\")\n",
              "            .append(\"svg\")\n",
              "            .attr(\"width\", width)\n",
              "            .attr(\"height\", height);\n",
              "         //Append circle\n",
              "         svg.append(\"circle\")\n",
              "            .attr(\"cx\", 200)\n",
              "            .attr(\"cy\", 50)\n",
              "            .attr(\"r\", 40)\n",
              "            .attr(\"fill\", \"green\");\n",
              "      </script>\n",
              "   </body>\n",
              "</html>\n"
            ]
          },
          "metadata": {}
        }
      ]
    },
    {
      "cell_type": "markdown",
      "source": [
        "A simple circle in SVG is described\n"
      ],
      "metadata": {
        "id": "VGzDVA3MZmKF"
      }
    },
    {
      "cell_type": "code",
      "source": [
        "%%html\n",
        "<html>\n",
        "   <head>\n",
        "      <script type = \"text/javascript\" src = \"https://d3js.org/d3.v4.min.js\"></script>\n",
        "   </head>\n",
        "\n",
        "   <body>\n",
        "      <div id = \"svgcontainer\"></div>\n",
        "      <script>\n",
        "         var width = 300;\n",
        "         var height = 300;\n",
        "         var svg = d3.select(\"#svgcontainer\")\n",
        "            .append(\"svg\")\n",
        "            .attr(\"width\", width)\n",
        "            .attr(\"height\", height);\n",
        "         svg.append(\"ellipse\")\n",
        "            .attr(\"cx\", 200)\n",
        "            .attr(\"cy\", 50)\n",
        "            .attr(\"rx\", 100)\n",
        "            .attr(\"ry\", 50)\n",
        "            .attr(\"fill\", \"green\")\n",
        "      </script>\n",
        "   </body>\n",
        "</html>\n"
      ],
      "metadata": {
        "colab": {
          "base_uri": "https://localhost:8080/",
          "height": 321
        },
        "id": "1WM-d4IFZok-",
        "outputId": "7b56d22f-e181-4363-aa13-73aaec7eb6e3"
      },
      "execution_count": 15,
      "outputs": [
        {
          "output_type": "display_data",
          "data": {
            "text/plain": [
              "<IPython.core.display.HTML object>"
            ],
            "text/html": [
              "<html>\n",
              "   <head>\n",
              "      <script type = \"text/javascript\" src = \"https://d3js.org/d3.v4.min.js\"></script>\n",
              "   </head>\n",
              "\n",
              "   <body>\n",
              "      <div id = \"svgcontainer\"></div>\n",
              "      <script>\n",
              "         var width = 300;\n",
              "         var height = 300;\n",
              "         var svg = d3.select(\"#svgcontainer\")\n",
              "            .append(\"svg\")\n",
              "            .attr(\"width\", width)\n",
              "            .attr(\"height\", height);\n",
              "         svg.append(\"ellipse\")\n",
              "            .attr(\"cx\", 200)\n",
              "            .attr(\"cy\", 50)\n",
              "            .attr(\"rx\", 100)\n",
              "            .attr(\"ry\", 50)\n",
              "            .attr(\"fill\", \"green\")\n",
              "      </script>\n",
              "   </body>\n",
              "</html>\n"
            ]
          },
          "metadata": {}
        }
      ]
    },
    {
      "cell_type": "markdown",
      "source": [
        "The SVG Ellipse element is represented by the <ellipse> tag"
      ],
      "metadata": {
        "id": "df_2GvwGZrN1"
      }
    },
    {
      "cell_type": "code",
      "source": [
        "%%html\n",
        "<html>\n",
        "   <head>\n",
        "      <script type = \"text/javascript\" src = \"https://d3js.org/d3.v4.min.js\"></script>\n",
        "   </head>\n",
        "\n",
        "   <body>\n",
        "      <svg width = \"300\" height = \"300\">\n",
        "         <rect x = \"20\"\n",
        "            y = \"20\"\n",
        "            width = \"60\"\n",
        "            height = \"60\"\n",
        "            fill = \"green\"\n",
        "            transform = \"translate(70 60)\">\n",
        "         </rect>\n",
        "      </svg>\n",
        "   </body>\n",
        "</html>"
      ],
      "metadata": {
        "colab": {
          "base_uri": "https://localhost:8080/",
          "height": 321
        },
        "id": "MCSU1WZLZt0P",
        "outputId": "9c645bc8-d4fa-412a-a971-78a4fca65f50"
      },
      "execution_count": 16,
      "outputs": [
        {
          "output_type": "display_data",
          "data": {
            "text/plain": [
              "<IPython.core.display.HTML object>"
            ],
            "text/html": [
              "<html>\n",
              "   <head>\n",
              "      <script type = \"text/javascript\" src = \"https://d3js.org/d3.v4.min.js\"></script>\n",
              "   </head>\n",
              "\n",
              "   <body>\n",
              "      <svg width = \"300\" height = \"300\">\n",
              "         <rect x = \"20\"\n",
              "            y = \"20\"\n",
              "            width = \"60\"\n",
              "            height = \"60\"\n",
              "            fill = \"green\"\n",
              "            transform = \"translate(70 60)\">\n",
              "         </rect>\n",
              "      </svg>\n",
              "   </body>\n",
              "</html>\n"
            ]
          },
          "metadata": {}
        }
      ]
    },
    {
      "cell_type": "markdown",
      "source": [
        "We can shift position of the rectangle using transform(x, y) where x and y are transition along x and y axis respectively"
      ],
      "metadata": {
        "id": "ra0pYfRhZxQ1"
      }
    },
    {
      "cell_type": "code",
      "source": [
        "%%html\n",
        "<html>\n",
        "   <head>\n",
        "      <script type = \"text/javascript\" src = \"https://d3js.org/d3.v4.min.js\"></script>\n",
        "   </head>\n",
        "\n",
        "   <body>\n",
        "      <svg width = \"300\" height = \"300\">\n",
        "         <rect x = \"20\"\n",
        "            y = \"20\"\n",
        "            width = \"60\"\n",
        "            height = \"60\"\n",
        "            fill = \"green\"\n",
        "            transform = \"translate(60 60) rotate(45)\">\n",
        "         </rect>\n",
        "      </svg>\n",
        "   </body>\n",
        "</html>"
      ],
      "metadata": {
        "colab": {
          "base_uri": "https://localhost:8080/",
          "height": 321
        },
        "id": "YE7m3KVvZz6H",
        "outputId": "fd56a90d-ae98-442a-f2b2-a09d70680ee1"
      },
      "execution_count": 17,
      "outputs": [
        {
          "output_type": "display_data",
          "data": {
            "text/plain": [
              "<IPython.core.display.HTML object>"
            ],
            "text/html": [
              "<html>\n",
              "   <head>\n",
              "      <script type = \"text/javascript\" src = \"https://d3js.org/d3.v4.min.js\"></script>\n",
              "   </head>\n",
              "\n",
              "   <body>\n",
              "      <svg width = \"300\" height = \"300\">\n",
              "         <rect x = \"20\"\n",
              "            y = \"20\"\n",
              "            width = \"60\"\n",
              "            height = \"60\"\n",
              "            fill = \"green\"\n",
              "            transform = \"translate(60 60) rotate(45)\">\n",
              "         </rect>\n",
              "      </svg>\n",
              "   </body>\n",
              "</html>\n"
            ]
          },
          "metadata": {}
        }
      ]
    },
    {
      "cell_type": "markdown",
      "source": [
        "Rotate(45) rotated the reactangle"
      ],
      "metadata": {
        "id": "WksCZrQ9Z2xO"
      }
    },
    {
      "cell_type": "code",
      "source": [
        "%%html\n",
        "<html>\n",
        "   <head>\n",
        "      <script type = \"text/javascript\" src = \"https://d3js.org/d3.v4.min.js\"></script>\n",
        "   </head>\n",
        "\n",
        "   <body>\n",
        "      <svg width = \"300\" height = \"300\">\n",
        "         <g transform = \"translate(60,60) rotate(10)\">\n",
        "            <rect x = \"20\"\n",
        "               y = \"20\"\n",
        "               width = \"60\"\n",
        "               height = \"30\"\n",
        "               fill = \"green\">\n",
        "            </rect>\n",
        "            <circle cx = \"0\"\n",
        "               cy = \"0\"\n",
        "               r = \"30\"\n",
        "               fill = \"red\"/>\n",
        "         </g>\n",
        "      </svg>\n",
        "   </body>\n",
        "</html>"
      ],
      "metadata": {
        "colab": {
          "base_uri": "https://localhost:8080/",
          "height": 321
        },
        "id": "uVikLu9AZ5ay",
        "outputId": "8c11a8af-975d-4b93-e6b4-1cce318997b8"
      },
      "execution_count": 18,
      "outputs": [
        {
          "output_type": "display_data",
          "data": {
            "text/plain": [
              "<IPython.core.display.HTML object>"
            ],
            "text/html": [
              "<html>\n",
              "   <head>\n",
              "      <script type = \"text/javascript\" src = \"https://d3js.org/d3.v4.min.js\"></script>\n",
              "   </head>\n",
              "\n",
              "   <body>\n",
              "      <svg width = \"300\" height = \"300\">\n",
              "         <g transform = \"translate(60,60) rotate(10)\">\n",
              "            <rect x = \"20\"\n",
              "               y = \"20\"\n",
              "               width = \"60\"\n",
              "               height = \"30\"\n",
              "               fill = \"green\">\n",
              "            </rect>\n",
              "            <circle cx = \"0\"\n",
              "               cy = \"0\"\n",
              "               r = \"30\"\n",
              "               fill = \"red\"/>\n",
              "         </g>\n",
              "      </svg>\n",
              "   </body>\n",
              "</html>\n"
            ]
          },
          "metadata": {}
        }
      ]
    },
    {
      "cell_type": "markdown",
      "source": [
        "Transformation can be applied to the SVG group element as well"
      ],
      "metadata": {
        "id": "SzxqnBI3aBtS"
      }
    },
    {
      "cell_type": "code",
      "source": [
        "%%html\n",
        "<!DOCTYPE html>\n",
        "<html lang = \"en\">\n",
        "   <head>\n",
        "      <title>SVG rectangle</title>\n",
        "      <script type = \"text/javascript\" src = \"https://d3js.org/d3.v4.min.js\"></script>\n",
        "      <style>\n",
        "         body { font-family: Arial; }\n",
        "      </style>\n",
        "   </head>\n",
        "\n",
        "   <body>\n",
        "      <div id = \"svgcontainer\"></div>\n",
        "         <script language = \"javascript\">\n",
        "            var width = 300;\n",
        "            var height = 300;\n",
        "            var svg = d3.select(\"#svgcontainer\")\n",
        "               .append(\"svg\")\n",
        "               .attr(\"width\", width)\n",
        "               .attr(\"height\", height);\n",
        "\n",
        "            var group = svg.append(\"g\")\n",
        "               .attr(\"transform\", \"translate(60, 60) rotate(30)\");\n",
        "\n",
        "            var rect = group.append(\"rect\")\n",
        "               .attr(\"x\", 20)\n",
        "               .attr(\"y\", 20)\n",
        "               .attr(\"width\", 60)\n",
        "               .attr(\"height\", 30)\n",
        "               .attr(\"fill\", \"green\")\n",
        "\n",
        "            var circle = group\n",
        "               .append(\"circle\")\n",
        "               .attr(\"cx\", 0)\n",
        "               .attr(\"cy\", 0)\n",
        "               .attr(\"r\", 30)\n",
        "               .attr(\"fill\", \"red\")\n",
        "         </script>\n",
        "      </div>\n",
        "   </body>\n",
        "</html>"
      ],
      "metadata": {
        "colab": {
          "base_uri": "https://localhost:8080/",
          "height": 321
        },
        "id": "XPy0tZyuaC57",
        "outputId": "4bc7d0f6-1b3c-4b05-89aa-2a7f6062354b"
      },
      "execution_count": 19,
      "outputs": [
        {
          "output_type": "display_data",
          "data": {
            "text/plain": [
              "<IPython.core.display.HTML object>"
            ],
            "text/html": [
              "<!DOCTYPE html>\n",
              "<html lang = \"en\">\n",
              "   <head>\n",
              "      <title>SVG rectangle</title>\n",
              "      <script type = \"text/javascript\" src = \"https://d3js.org/d3.v4.min.js\"></script>\n",
              "      <style>\n",
              "         body { font-family: Arial; }\n",
              "      </style>\n",
              "   </head>\n",
              "\n",
              "   <body>\n",
              "      <div id = \"svgcontainer\"></div>\n",
              "         <script language = \"javascript\">\n",
              "            var width = 300;\n",
              "            var height = 300;\n",
              "            var svg = d3.select(\"#svgcontainer\")\n",
              "               .append(\"svg\")\n",
              "               .attr(\"width\", width)\n",
              "               .attr(\"height\", height);\n",
              "\n",
              "            var group = svg.append(\"g\")\n",
              "               .attr(\"transform\", \"translate(60, 60) rotate(30)\");\n",
              "\n",
              "            var rect = group.append(\"rect\")\n",
              "               .attr(\"x\", 20)\n",
              "               .attr(\"y\", 20)\n",
              "               .attr(\"width\", 60)\n",
              "               .attr(\"height\", 30)\n",
              "               .attr(\"fill\", \"green\")\n",
              "\n",
              "            var circle = group\n",
              "               .append(\"circle\")\n",
              "               .attr(\"cx\", 0)\n",
              "               .attr(\"cy\", 0)\n",
              "               .attr(\"r\", 30)\n",
              "               .attr(\"fill\", \"red\")\n",
              "         </script>\n",
              "      </div>\n",
              "   </body>\n",
              "</html>\n"
            ]
          },
          "metadata": {}
        }
      ]
    },
    {
      "cell_type": "markdown",
      "source": [
        "Created circle and rectangle and applied transitions on them usinng D3.js"
      ],
      "metadata": {
        "id": "L6BCwu5LaGVy"
      }
    },
    {
      "cell_type": "markdown",
      "source": [
        "Transitions\n"
      ],
      "metadata": {
        "id": "qNUfY9ohaMSA"
      }
    },
    {
      "cell_type": "code",
      "source": [
        "%%html\n",
        "<!DOCTYPE html>\n",
        "<html>\n",
        "   <head>\n",
        "      <script type = \"text/javascript\" src = \"https://d3js.org/d3.v4.min.js\"></script>\n",
        "   </head>\n",
        "\n",
        "   <body>\n",
        "      <h3>Simple transitions</h3>\n",
        "      <script>\n",
        "         d3.select(\"body\").transition().style(\"background-color\", \"blue\");\n",
        "      </script>\n",
        "   </body>\n",
        "</html>"
      ],
      "metadata": {
        "colab": {
          "base_uri": "https://localhost:8080/",
          "height": 58
        },
        "id": "k9fsRiVVaI5P",
        "outputId": "4001ec32-5b70-4ff5-faa1-96c7187c03d7"
      },
      "execution_count": 20,
      "outputs": [
        {
          "output_type": "display_data",
          "data": {
            "text/plain": [
              "<IPython.core.display.HTML object>"
            ],
            "text/html": [
              "<!DOCTYPE html>\n",
              "<html>\n",
              "   <head>\n",
              "      <script type = \"text/javascript\" src = \"https://d3js.org/d3.v4.min.js\"></script>\n",
              "   </head>\n",
              "\n",
              "   <body>\n",
              "      <h3>Simple transitions</h3>\n",
              "      <script>\n",
              "         d3.select(\"body\").transition().style(\"background-color\", \"blue\");\n",
              "      </script>\n",
              "   </body>\n",
              "</html>\n"
            ]
          },
          "metadata": {}
        }
      ]
    },
    {
      "cell_type": "markdown",
      "source": [
        "e have selected the body element and then started transition by calling the transition() method. Then, we have instructed to transit the background color from the current color, gray to blue."
      ],
      "metadata": {
        "id": "vsFPXu-1aTJ4"
      }
    },
    {
      "cell_type": "markdown",
      "source": [
        "ANIMATIONS\n"
      ],
      "metadata": {
        "id": "rMBkoF79aUAX"
      }
    },
    {
      "cell_type": "code",
      "source": [
        "%%html\n",
        "<!DOCTYPE html>\n",
        "<html>\n",
        "   <head>\n",
        "      <script type = \"text/javascript\" src = \"https://d3js.org/d3.v4.min.js\"></script>\n",
        "   </head>\n",
        "\n",
        "   <body>\n",
        "      <h3>Simple transitions</h3>\n",
        "      <script>\n",
        "         d3.select(\"body\").transition().style(\"background-color\", \"lightblue\")\n",
        "         // make the background-color lightblue.transition()\n",
        "         .style(\"background-color\", \"gray\");\n",
        "         // make the background-color gray\n",
        "      </script>\n",
        "   </body>\n",
        "</html>"
      ],
      "metadata": {
        "colab": {
          "base_uri": "https://localhost:8080/",
          "height": 58
        },
        "id": "Xy_ft3wmaWHH",
        "outputId": "b8c28301-89be-4089-9038-dca51818c72e"
      },
      "execution_count": 21,
      "outputs": [
        {
          "output_type": "display_data",
          "data": {
            "text/plain": [
              "<IPython.core.display.HTML object>"
            ],
            "text/html": [
              "<!DOCTYPE html>\n",
              "<html>\n",
              "   <head>\n",
              "      <script type = \"text/javascript\" src = \"https://d3js.org/d3.v4.min.js\"></script>\n",
              "   </head>\n",
              "\n",
              "   <body>\n",
              "      <h3>Simple transitions</h3>\n",
              "      <script>\n",
              "         d3.select(\"body\").transition().style(\"background-color\", \"lightblue\")\n",
              "         // make the background-color lightblue.transition()\n",
              "         .style(\"background-color\", \"gray\");\n",
              "         // make the background-color gray\n",
              "      </script>\n",
              "   </body>\n",
              "</html>\n"
            ]
          },
          "metadata": {}
        }
      ]
    },
    {
      "cell_type": "markdown",
      "source": [
        "The Background color of the document changed from white to light gray and then to gray."
      ],
      "metadata": {
        "id": "e-H8pMqIaZzW"
      }
    },
    {
      "cell_type": "code",
      "source": [
        "%%html\n",
        "<!DOCTYPE html>\n",
        "<html>\n",
        "   <head>\n",
        "      <script type = \"text/javascript\" src = \"https://d3js.org/d3.v4.min.js\"></script>\n",
        "   </head>\n",
        "\n",
        "   <body>\n",
        "      <h3>Simple transitions</h3>\n",
        "      <script>\n",
        "         d3.selectAll(\"h3\").transition().style(\"color\",\"green\").duration(1000);\n",
        "      </script>\n",
        "   </body>\n",
        "</html>"
      ],
      "metadata": {
        "colab": {
          "base_uri": "https://localhost:8080/",
          "height": 58
        },
        "id": "Rg-lJvjnaabA",
        "outputId": "07308c91-7400-4bd1-e44e-e272b38c83a1"
      },
      "execution_count": 22,
      "outputs": [
        {
          "output_type": "display_data",
          "data": {
            "text/plain": [
              "<IPython.core.display.HTML object>"
            ],
            "text/html": [
              "<!DOCTYPE html>\n",
              "<html>\n",
              "   <head>\n",
              "      <script type = \"text/javascript\" src = \"https://d3js.org/d3.v4.min.js\"></script>\n",
              "   </head>\n",
              "\n",
              "   <body>\n",
              "      <h3>Simple transitions</h3>\n",
              "      <script>\n",
              "         d3.selectAll(\"h3\").transition().style(\"color\",\"green\").duration(1000);\n",
              "      </script>\n",
              "   </body>\n",
              "</html>\n"
            ]
          },
          "metadata": {}
        }
      ]
    },
    {
      "cell_type": "markdown",
      "source": [
        "The duration() method allows property changes to occur smoothly over a specified duration rather than instantaneously."
      ],
      "metadata": {
        "id": "_qzppfMuad03"
      }
    },
    {
      "cell_type": "code",
      "source": [
        "%%html\n",
        "<!DOCTYPE html>\n",
        "<html>\n",
        "   <head>\n",
        "      <script type = \"text/javascript\" src = \"https://d3js.org/d3.v4.min.js\"></script>\n",
        "   </head>\n",
        "\n",
        "   <body>\n",
        "      <h3> Simple transitions </h3>\n",
        "      <script>\n",
        "         d3.selectAll(\"h3\").transition()\n",
        "            .style(\"font-size\",\"60px\")\n",
        "            .style(\"color\", \"red\")\n",
        "            .delay(2000).duration(5000).rotate(70);\n",
        "      </script>\n",
        "   </body>\n",
        "</html>"
      ],
      "metadata": {
        "colab": {
          "base_uri": "https://localhost:8080/",
          "height": 155
        },
        "id": "l63T--j1aeZP",
        "outputId": "044a653e-6d37-40ec-e482-aea2063b0cb9"
      },
      "execution_count": 23,
      "outputs": [
        {
          "output_type": "display_data",
          "data": {
            "text/plain": [
              "<IPython.core.display.HTML object>"
            ],
            "text/html": [
              "<!DOCTYPE html>\n",
              "<html>\n",
              "   <head>\n",
              "      <script type = \"text/javascript\" src = \"https://d3js.org/d3.v4.min.js\"></script>\n",
              "   </head>\n",
              "\n",
              "   <body>\n",
              "      <h3> Simple transitions </h3>\n",
              "      <script>\n",
              "         d3.selectAll(\"h3\").transition()\n",
              "            .style(\"font-size\",\"60px\")\n",
              "            .style(\"color\", \"red\")\n",
              "            .delay(2000).duration(5000).rotate(70);\n",
              "      </script>\n",
              "   </body>\n",
              "</html>\n"
            ]
          },
          "metadata": {}
        }
      ]
    },
    {
      "cell_type": "markdown",
      "source": [
        "The delay() method allows a transition to take place after a certain period of time."
      ],
      "metadata": {
        "id": "FmHLQmS4aiTW"
      }
    }
  ]
}