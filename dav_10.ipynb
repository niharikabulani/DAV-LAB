{
  "nbformat": 4,
  "nbformat_minor": 0,
  "metadata": {
    "colab": {
      "provenance": [],
      "authorship_tag": "ABX9TyNZbHH2f4h1X8PvoSoNASIw",
      "include_colab_link": true
    },
    "kernelspec": {
      "name": "python3",
      "display_name": "Python 3"
    },
    "language_info": {
      "name": "python"
    }
  },
  "cells": [
    {
      "cell_type": "markdown",
      "metadata": {
        "id": "view-in-github",
        "colab_type": "text"
      },
      "source": [
        "<a href=\"https://colab.research.google.com/github/niharikabulani/DAV-LAB/blob/main/dav_10.ipynb\" target=\"_parent\"><img src=\"https://colab.research.google.com/assets/colab-badge.svg\" alt=\"Open In Colab\"/></a>"
      ]
    },
    {
      "cell_type": "markdown",
      "source": [
        "Experiment 10:Event Handling with D3.js"
      ],
      "metadata": {
        "id": "E-28r3XFc0UP"
      }
    },
    {
      "cell_type": "code",
      "execution_count": 1,
      "metadata": {
        "colab": {
          "base_uri": "https://localhost:8080/",
          "height": 221
        },
        "id": "7qPBSlGbcs_3",
        "outputId": "98b56785-47f9-4bd6-c5ab-d4a3be5df1ac"
      },
      "outputs": [
        {
          "output_type": "display_data",
          "data": {
            "text/plain": [
              "<IPython.core.display.HTML object>"
            ],
            "text/html": [
              "<!DOCTYPE html>\n",
              "<html lang=\"en\">\n",
              "<head>\n",
              "  <meta charset=\"UTF-8\">\n",
              "  <meta name=\"viewport\" content=\"width=device-width, initial-scale=1.0\">\n",
              "  <title>D3.js Event Handling</title>\n",
              "  <script src=\"https://d3js.org/d3.v7.min.js\"></script>\n",
              "  <style>\n",
              "    circle {\n",
              "      fill: steelblue;\n",
              "      stroke: black;\n",
              "      stroke-width: 2px;\n",
              "    }\n",
              "  </style>\n",
              "</head>\n",
              "<body>\n",
              "\n",
              "<svg width=\"400\" height=\"200\">\n",
              "  <circle cx=\"50\" cy=\"100\" r=\"20\"></circle>\n",
              "  <circle cx=\"150\" cy=\"100\" r=\"20\"></circle>\n",
              "  <circle cx=\"250\" cy=\"100\" r=\"20\"></circle>\n",
              "</svg>\n",
              "\n",
              "<script>\n",
              "  // Select all circles\n",
              "  const circles = d3.selectAll(\"circle\");\n",
              "\n",
              "  // Add event listeners\n",
              "  circles.on(\"mouseover\", handleMouseOver);\n",
              "  circles.on(\"mouseout\", handleMouseOut);\n",
              "\n",
              "  function handleMouseOver() {\n",
              "    d3.select(this)\n",
              "      .transition()\n",
              "      .duration(200)\n",
              "      .attr(\"r\", 30);\n",
              "  }\n",
              "\n",
              "  function handleMouseOut() {\n",
              "    d3.select(this)\n",
              "      .transition()\n",
              "      .duration(200)\n",
              "      .attr(\"r\", 20);\n",
              "  }\n",
              "</script>\n",
              "\n",
              "</body>\n",
              "</html>\n"
            ]
          },
          "metadata": {}
        }
      ],
      "source": [
        "%%html\n",
        "<!DOCTYPE html>\n",
        "<html lang=\"en\">\n",
        "<head>\n",
        "  <meta charset=\"UTF-8\">\n",
        "  <meta name=\"viewport\" content=\"width=device-width, initial-scale=1.0\">\n",
        "  <title>D3.js Event Handling</title>\n",
        "  <script src=\"https://d3js.org/d3.v7.min.js\"></script>\n",
        "  <style>\n",
        "    circle {\n",
        "      fill: steelblue;\n",
        "      stroke: black;\n",
        "      stroke-width: 2px;\n",
        "    }\n",
        "  </style>\n",
        "</head>\n",
        "<body>\n",
        "\n",
        "<svg width=\"400\" height=\"200\">\n",
        "  <circle cx=\"50\" cy=\"100\" r=\"20\"></circle>\n",
        "  <circle cx=\"150\" cy=\"100\" r=\"20\"></circle>\n",
        "  <circle cx=\"250\" cy=\"100\" r=\"20\"></circle>\n",
        "</svg>\n",
        "\n",
        "<script>\n",
        "  // Select all circles\n",
        "  const circles = d3.selectAll(\"circle\");\n",
        "\n",
        "  // Add event listeners\n",
        "  circles.on(\"mouseover\", handleMouseOver);\n",
        "  circles.on(\"mouseout\", handleMouseOut);\n",
        "\n",
        "  function handleMouseOver() {\n",
        "    d3.select(this)\n",
        "      .transition()\n",
        "      .duration(200)\n",
        "      .attr(\"r\", 30);\n",
        "  }\n",
        "\n",
        "  function handleMouseOut() {\n",
        "    d3.select(this)\n",
        "      .transition()\n",
        "      .duration(200)\n",
        "      .attr(\"r\", 20);\n",
        "  }\n",
        "</script>\n",
        "\n",
        "</body>\n",
        "</html>\n"
      ]
    },
    {
      "cell_type": "code",
      "source": [
        "%%html\n",
        "<!DOCTYPE html>\n",
        "<html lang=\"en\">\n",
        "<head>\n",
        "  <meta charset=\"UTF-8\">\n",
        "  <meta name=\"viewport\" content=\"width=device-width, initial-scale=1.0\">\n",
        "  <title>D3.js Click Event Handling</title>\n",
        "  <script src=\"https://d3js.org/d3.v7.min.js\"></script>\n",
        "  <style>\n",
        "    circle {\n",
        "      fill: steelblue;\n",
        "      stroke: black;\n",
        "      stroke-width: 2px;\n",
        "      cursor: pointer; /* Adding cursor style to indicate clickable */\n",
        "    }\n",
        "  </style>\n",
        "</head>\n",
        "<body>\n",
        "\n",
        "<svg width=\"400\" height=\"200\">\n",
        "  <circle cx=\"50\" cy=\"100\" r=\"20\"></circle>\n",
        "  <circle cx=\"150\" cy=\"100\" r=\"20\"></circle>\n",
        "  <circle cx=\"250\" cy=\"100\" r=\"20\"></circle>\n",
        "</svg>\n",
        "\n",
        "<script>\n",
        "  // Select all circles\n",
        "  const circles = d3.selectAll(\"circle\");\n",
        "\n",
        "  // Add event listener for click\n",
        "  circles.on(\"click\", handleClick);\n",
        "\n",
        "  function handleClick() {\n",
        "    // Check if the circle is already red\n",
        "    const isRed = d3.select(this).style(\"fill\") === \"red\";\n",
        "\n",
        "    // Change the color based on its current color\n",
        "    d3.select(this)\n",
        "      .style(\"fill\", isRed ? \"steelblue\" : \"red\");\n",
        "  }\n",
        "</script>\n",
        "\n",
        "</body>\n",
        "</html>\n"
      ],
      "metadata": {
        "colab": {
          "base_uri": "https://localhost:8080/",
          "height": 221
        },
        "id": "gAaUX2XYdAGg",
        "outputId": "d2d467e4-c063-410c-8351-976f8d9a4158"
      },
      "execution_count": 2,
      "outputs": [
        {
          "output_type": "display_data",
          "data": {
            "text/plain": [
              "<IPython.core.display.HTML object>"
            ],
            "text/html": [
              "<!DOCTYPE html>\n",
              "<html lang=\"en\">\n",
              "<head>\n",
              "  <meta charset=\"UTF-8\">\n",
              "  <meta name=\"viewport\" content=\"width=device-width, initial-scale=1.0\">\n",
              "  <title>D3.js Click Event Handling</title>\n",
              "  <script src=\"https://d3js.org/d3.v7.min.js\"></script>\n",
              "  <style>\n",
              "    circle {\n",
              "      fill: steelblue;\n",
              "      stroke: black;\n",
              "      stroke-width: 2px;\n",
              "      cursor: pointer; /* Adding cursor style to indicate clickable */\n",
              "    }\n",
              "  </style>\n",
              "</head>\n",
              "<body>\n",
              "\n",
              "<svg width=\"400\" height=\"200\">\n",
              "  <circle cx=\"50\" cy=\"100\" r=\"20\"></circle>\n",
              "  <circle cx=\"150\" cy=\"100\" r=\"20\"></circle>\n",
              "  <circle cx=\"250\" cy=\"100\" r=\"20\"></circle>\n",
              "</svg>\n",
              "\n",
              "<script>\n",
              "  // Select all circles\n",
              "  const circles = d3.selectAll(\"circle\");\n",
              "\n",
              "  // Add event listener for click\n",
              "  circles.on(\"click\", handleClick);\n",
              "\n",
              "  function handleClick() {\n",
              "    // Check if the circle is already red\n",
              "    const isRed = d3.select(this).style(\"fill\") === \"red\";\n",
              "\n",
              "    // Change the color based on its current color\n",
              "    d3.select(this)\n",
              "      .style(\"fill\", isRed ? \"steelblue\" : \"red\");\n",
              "  }\n",
              "</script>\n",
              "\n",
              "</body>\n",
              "</html>\n"
            ]
          },
          "metadata": {}
        }
      ]
    }
  ]
}